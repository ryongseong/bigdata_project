{
 "cells": [
  {
   "cell_type": "code",
   "execution_count": 11,
   "metadata": {},
   "outputs": [
    {
     "data": {
      "text/html": [
       "<div>\n",
       "<style scoped>\n",
       "    .dataframe tbody tr th:only-of-type {\n",
       "        vertical-align: middle;\n",
       "    }\n",
       "\n",
       "    .dataframe tbody tr th {\n",
       "        vertical-align: top;\n",
       "    }\n",
       "\n",
       "    .dataframe thead th {\n",
       "        text-align: right;\n",
       "    }\n",
       "</style>\n",
       "<table border=\"1\" class=\"dataframe\">\n",
       "  <thead>\n",
       "    <tr style=\"text-align: right;\">\n",
       "      <th></th>\n",
       "      <th>name</th>\n",
       "      <th>\"basic_info\"</th>\n",
       "      <th>\"cost_info\"</th>\n",
       "      <th>\"avg_stars\"</th>\n",
       "    </tr>\n",
       "  </thead>\n",
       "  <tbody>\n",
       "    <tr>\n",
       "      <th>0</th>\n",
       "      <td>강남 더 뮤즈</td>\n",
       "      <td>사장님 한마디 골드글라스브론즈글라스 객실 Couple Pc 배틀그라운드 가능 최고사...</td>\n",
       "      <td>40,000</td>\n",
       "      <td>9.8</td>\n",
       "    </tr>\n",
       "    <tr>\n",
       "      <th>1</th>\n",
       "      <td>역삼 호텔 디 아티스트</td>\n",
       "      <td>혜택안내요금할인주차장 정보 편리한 주차공간 확보 (신규 외부 주차장 완비) 발렛서비...</td>\n",
       "      <td>35,000</td>\n",
       "      <td>9.2</td>\n",
       "    </tr>\n",
       "    <tr>\n",
       "      <th>2</th>\n",
       "      <td>역삼 리치웰</td>\n",
       "      <td>사장님 한마디 리치웰 호텔 전객실 Netflix 프리존 (무료시청가능자동로그인) 전...</td>\n",
       "      <td>35,000</td>\n",
       "      <td>9.3</td>\n",
       "    </tr>\n",
       "    <tr>\n",
       "      <th>3</th>\n",
       "      <td>강남 캠퍼스</td>\n",
       "      <td>사장님 한마디 Deluxe 타입 객실 75 SMART TV ! 넷플릭스 이용 가능리...</td>\n",
       "      <td>40,000</td>\n",
       "      <td>9.3</td>\n",
       "    </tr>\n",
       "    <tr>\n",
       "      <th>4</th>\n",
       "      <td>역삼 인트로호텔</td>\n",
       "      <td>주차장 정보지상 주차장과 지하주차장을 사용할수 있습니다객실당 1대만 주차할수 있습니...</td>\n",
       "      <td>30,000</td>\n",
       "      <td>9.9</td>\n",
       "    </tr>\n",
       "  </tbody>\n",
       "</table>\n",
       "</div>"
      ],
      "text/plain": [
       "           name                                       \"basic_info\"  \\\n",
       "0       강남 더 뮤즈  사장님 한마디 골드글라스브론즈글라스 객실 Couple Pc 배틀그라운드 가능 최고사...   \n",
       "1  역삼 호텔 디 아티스트  혜택안내요금할인주차장 정보 편리한 주차공간 확보 (신규 외부 주차장 완비) 발렛서비...   \n",
       "2        역삼 리치웰  사장님 한마디 리치웰 호텔 전객실 Netflix 프리존 (무료시청가능자동로그인) 전...   \n",
       "3        강남 캠퍼스  사장님 한마디 Deluxe 타입 객실 75 SMART TV ! 넷플릭스 이용 가능리...   \n",
       "4      역삼 인트로호텔  주차장 정보지상 주차장과 지하주차장을 사용할수 있습니다객실당 1대만 주차할수 있습니...   \n",
       "\n",
       "   \"cost_info\"   \"avg_stars\"  \n",
       "0       40,000           9.8  \n",
       "1       35,000           9.2  \n",
       "2       35,000           9.3  \n",
       "3       40,000           9.3  \n",
       "4       30,000           9.9  "
      ]
     },
     "execution_count": 11,
     "metadata": {},
     "output_type": "execute_result"
    }
   ],
   "source": [
    "import pandas as pd\n",
    "\n",
    "df = pd.read_csv(\"./data/info_seoul[2023-06-01].csv\",sep=\"|\")\n",
    "df.head()"
   ]
  },
  {
   "cell_type": "code",
   "execution_count": 20,
   "metadata": {},
   "outputs": [
    {
     "name": "stderr",
     "output_type": "stream",
     "text": [
      "C:\\Users\\xmssn\\AppData\\Local\\Temp\\ipykernel_30712\\3928576988.py:1: ParserWarning: Falling back to the 'python' engine because the 'c' engine does not support regex separators (separators > 1 char and different from '\\s+' are interpreted as regex); you can avoid this warning by specifying engine='python'.\n",
      "  df2 = pd.read_csv(\"./reviews/reviews_seoul[2023-05-29].csv\",sep='<div class=\"txt\">')\n"
     ]
    },
    {
     "data": {
      "text/html": [
       "<div>\n",
       "<style scoped>\n",
       "    .dataframe tbody tr th:only-of-type {\n",
       "        vertical-align: middle;\n",
       "    }\n",
       "\n",
       "    .dataframe tbody tr th {\n",
       "        vertical-align: top;\n",
       "    }\n",
       "\n",
       "    .dataframe thead th {\n",
       "        text-align: right;\n",
       "    }\n",
       "</style>\n",
       "<table border=\"1\" class=\"dataframe\">\n",
       "  <thead>\n",
       "    <tr style=\"text-align: right;\">\n",
       "      <th></th>\n",
       "      <th>\"review\"</th>\n",
       "    </tr>\n",
       "  </thead>\n",
       "  <tbody>\n",
       "    <tr>\n",
       "      <th>NaN</th>\n",
       "      <td>프론트에서부터 친절하게 대응해주시고 올 때마다 만족하고 가는 곳입니다. 화장실과 침...</td>\n",
       "    </tr>\n",
       "    <tr>\n",
       "      <th>NaN</th>\n",
       "      <td>토실한씨름님 안녕하세요.&lt;br/&gt;&lt;br/&gt;최신 리모델링 호텔더뮤즈 💛&lt;br/&gt;&lt;br...</td>\n",
       "    </tr>\n",
       "    <tr>\n",
       "      <th>NaN</th>\n",
       "      <td>아기자기하니 좋았어요 방크기에 비해 욕실이 넓고 좋았습니다 . 넷플릭스도 있고 사장...</td>\n",
       "    </tr>\n",
       "    <tr>\n",
       "      <th>NaN</th>\n",
       "      <td>탁월한맹꽁이님 안녕하세요.&lt;br/&gt;&lt;br/&gt;최신 리모델링 호텔더뮤즈 💛&lt;br/&gt;&lt;b...</td>\n",
       "    </tr>\n",
       "    <tr>\n",
       "      <th>NaN</th>\n",
       "      <td>자주가는곳입니다 강남구 서초구 이근처에서 가격대비 시설이나 주차 친절함이 최고입니다...</td>\n",
       "    </tr>\n",
       "  </tbody>\n",
       "</table>\n",
       "</div>"
      ],
      "text/plain": [
       "                                              \"review\"\n",
       "NaN  프론트에서부터 친절하게 대응해주시고 올 때마다 만족하고 가는 곳입니다. 화장실과 침...\n",
       "NaN  토실한씨름님 안녕하세요.<br/><br/>최신 리모델링 호텔더뮤즈 💛<br/><br...\n",
       "NaN  아기자기하니 좋았어요 방크기에 비해 욕실이 넓고 좋았습니다 . 넷플릭스도 있고 사장...\n",
       "NaN  탁월한맹꽁이님 안녕하세요.<br/><br/>최신 리모델링 호텔더뮤즈 💛<br/><b...\n",
       "NaN  자주가는곳입니다 강남구 서초구 이근처에서 가격대비 시설이나 주차 친절함이 최고입니다..."
      ]
     },
     "execution_count": 20,
     "metadata": {},
     "output_type": "execute_result"
    }
   ],
   "source": [
    "df2 = pd.read_csv(\"./reviews/reviews_seoul[2023-05-29].csv\",sep='<div class=\"txt\">')\n",
    "df2.head()"
   ]
  }
 ],
 "metadata": {
  "kernelspec": {
   "display_name": "Python 3",
   "language": "python",
   "name": "python3"
  },
  "language_info": {
   "codemirror_mode": {
    "name": "ipython",
    "version": 3
   },
   "file_extension": ".py",
   "mimetype": "text/x-python",
   "name": "python",
   "nbconvert_exporter": "python",
   "pygments_lexer": "ipython3",
   "version": "3.10.4"
  },
  "orig_nbformat": 4
 },
 "nbformat": 4,
 "nbformat_minor": 2
}
