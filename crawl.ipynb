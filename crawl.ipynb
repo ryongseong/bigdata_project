{
 "cells": [
  {
   "cell_type": "code",
   "execution_count": 1,
   "metadata": {},
   "outputs": [],
   "source": [
    "import os\n",
    "import sys\n",
    "import requests\n",
    "import re\n",
    "import time\n",
    "import json\n",
    "import pandas as pd\n",
    "import csv\n",
    "from datetime import datetime\n",
    "from bs4 import BeautifulSoup as bs\n",
    "from selenium import webdriver\n",
    "from selenium.webdriver.common.by import By\n",
    "\n",
    "import warnings\n",
    "warnings.filterwarnings('ignore')"
   ]
  },
  {
   "cell_type": "code",
   "execution_count": 2,
   "metadata": {},
   "outputs": [],
   "source": [
    "extracts = re.compile('[^ 가-힣|a-z|A-Z|0-9|\\[|\\]|(|)|-|~|?|!|.|,|:|;|%]+')\n",
    "cost_extracts = re.compile('[^ 가-힣|a-z|A-Z|\\[|\\]|(|)|-|~|?|!|.|,|:|;|%]+')"
   ]
  },
  {
   "cell_type": "code",
   "execution_count": 3,
   "metadata": {},
   "outputs": [],
   "source": [
    "data = open('./data/goodchoice.csv', 'w', encoding='utf8')"
   ]
  },
  {
   "cell_type": "code",
   "execution_count": 4,
   "metadata": {},
   "outputs": [
    {
     "data": {
      "text/plain": [
       "1"
      ]
     },
     "execution_count": 4,
     "metadata": {},
     "output_type": "execute_result"
    }
   ],
   "source": [
    "data.write('\"basic_info\"')\n",
    "data.write(', ')\n",
    "data.write('\"cost_info\"')\n",
    "data.write('\\n')"
   ]
  },
  {
   "cell_type": "code",
   "execution_count": 5,
   "metadata": {},
   "outputs": [],
   "source": [
    "driver = webdriver.Chrome(\"chromedriver.exe\")\n",
    "driver.maximize_window() #전체 화면"
   ]
  },
  {
   "cell_type": "code",
   "execution_count": 6,
   "metadata": {},
   "outputs": [],
   "source": [
    "driver.get('https://www.goodchoice.kr/')\n",
    "time.sleep(2)"
   ]
  },
  {
   "cell_type": "code",
   "execution_count": 7,
   "metadata": {},
   "outputs": [],
   "source": [
    "# 서울 강남/역삼/논현 검색\n",
    "driver.find_element(By.XPATH, \"/html/body/div[1]/div[6]/div[2]/ul/li[1]/a\").click()\n",
    "driver.find_element(By.XPATH, \"/html/body/div[1]/div[6]/div[2]/div/div/div\").click()\n",
    "driver.find_element(By.XPATH, \"/html/body/div[1]/div[6]/div[3]/div[1]/div[2]/div[1]/div/ul/li[1]/a\").click()\n",
    "driver.find_element(By.XPATH, \"/html/body/div[1]/div[6]/div[3]/div[1]/div[2]/div[2]/div/ul[1]/li[2]/a\").click()\n",
    "driver.find_element(By.XPATH, \"/html/body/div[1]/form/div/div[3]/div[3]/div[2]/li[1]\").click()"
   ]
  },
  {
   "cell_type": "code",
   "execution_count": 8,
   "metadata": {},
   "outputs": [],
   "source": [
    "# # 리뷰 크롤링\n",
    "# for i in range(1,10):\n",
    "#     try:\n",
    "#         driver.find_element(By.XPATH, \"/html/body/div[1]/form/div/div[3]/div[3]/div[2]/li[{}]\".format(i)).click()\n",
    "#         driver.find_element(By.XPATH, \"/html/body/div[1]/div[6]/div[2]/button[3]\").click()\n",
    "#         driver.back()\n",
    "#     except:\n",
    "#         driver.close()\n",
    "#         continue"
   ]
  },
  {
   "cell_type": "code",
   "execution_count": 9,
   "metadata": {},
   "outputs": [],
   "source": [
    "# 기본 정보 및 요금 정보\n",
    "rs = requests.get('https://www.goodchoice.kr/product/detail?ano=2084&adcno=1')\n",
    "rs.encoding = None\n",
    "html = rs.text\n",
    "soup = bs(html, 'html.parser')\n",
    "\n",
    "tarbasic_info = soup.select('#content > article.detail_info > section.default_info')\n",
    "tarcost_info = soup.select('#content > article.detail_info.on > section.table_wrap > div:nth-child(2) > table:nth-child(2)')\n",
    "\n",
    "basic_info = ''\n",
    "for text in tarbasic_info:\n",
    "    basic_info += text.getText()\n",
    "\n",
    "basic_info = extracts.sub('', basic_info)\n",
    "basic_info = re.sub(' +', ' ', basic_info)\n",
    "basic_info = '\"'+basic_info+'\"'\n",
    "\n",
    "rcost_info = soup.find(\"table\", {\"class\" : \"table_type_02\"})\n",
    "cost_info = rcost_info.find(\"span\")\n",
    "cost_info = cost_info.text\n",
    "\n",
    "data.write(basic_info)\n",
    "data.write('\\n')\n",
    "data.write(cost_info)\n",
    "data.write('\\n')\n",
    "\n",
    "data.close()"
   ]
  }
 ],
 "metadata": {
  "kernelspec": {
   "display_name": "Python 3",
   "language": "python",
   "name": "python3"
  },
  "language_info": {
   "codemirror_mode": {
    "name": "ipython",
    "version": 3
   },
   "file_extension": ".py",
   "mimetype": "text/x-python",
   "name": "python",
   "nbconvert_exporter": "python",
   "pygments_lexer": "ipython3",
   "version": "3.10.4"
  },
  "orig_nbformat": 4
 },
 "nbformat": 4,
 "nbformat_minor": 2
}
