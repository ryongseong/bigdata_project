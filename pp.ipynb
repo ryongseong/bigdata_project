{
 "cells": [
  {
   "cell_type": "code",
   "execution_count": null,
   "metadata": {},
   "outputs": [],
   "source": []
  },
  {
   "cell_type": "code",
   "execution_count": null,
   "metadata": {},
   "outputs": [],
   "source": [
    "# html = driver.get('https://www.goodchoice.kr/product/detail?ano=5802&adcno=1&sel_date=2023-05-16&sel_date2=2023-05-17')\n",
    "# rs = requests.get('https://www.goodchoice.kr/product/detail?ano=5802&adcno=1&sel_date=2023-05-16&sel_date2=2023-05-17')\n",
    "driver.get('https://www.goodchoice.kr/product/detail?ano=5802&adcno=1&sel_date=2023-05-16&sel_date2=2023-05-17')\n",
    "html = driver.page_source\n",
    "# rs.encoding = None\n",
    "# html = rs.text\n",
    "# soup = BeautifulSoup(html, 'html.parser')\n",
    "# html = requests.get('https://www.goodchoice.kr/product/detail?ano=5802&adcno=1&sel_date=2023-05-16&sel_date2=2023-05-17')\n",
    "# html.encoding = None\n",
    "\n",
    "\n",
    "# texts = html.find_element\n",
    "soups = BeautifulSoup(html, 'html.parser')\n",
    "\n",
    "\n",
    "reviews = soups.find_all('div',class_= 'txt')\n",
    "# tarreview = soup.find_all('#review > ul > li:nth-child(1)')\n",
    "# rreview = soup.find_all(\"div\" , {\"class\" : \"guest\"})\n",
    "# review = rreview.find(\"\")\n",
    "print(reviews)"
   ]
  }
 ],
 "metadata": {
  "language_info": {
   "name": "python"
  },
  "orig_nbformat": 4
 },
 "nbformat": 4,
 "nbformat_minor": 2
}
