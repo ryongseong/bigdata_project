{
 "cells": [
  {
   "cell_type": "code",
   "execution_count": 1,
   "metadata": {},
   "outputs": [],
   "source": [
    "import os\n",
    "import sys\n",
    "import requests\n",
    "import re\n",
    "import time\n",
    "import json\n",
    "import pandas as pd\n",
    "import csv\n",
    "from datetime import datetime\n",
    "from bs4 import BeautifulSoup\n",
    "from selenium import webdriver\n",
    "from selenium.webdriver.common.by import By\n",
    "from selenium.webdriver.common.keys import Keys\n",
    "from selenium.webdriver.support.ui import WebDriverWait\n",
    "from selenium.webdriver.support import expected_conditions as EC\n",
    "\n",
    "import warnings\n",
    "warnings.filterwarnings('ignore')"
   ]
  },
  {
   "cell_type": "code",
   "execution_count": 2,
   "metadata": {},
   "outputs": [],
   "source": [
    "extracts = re.compile('[^ 가-힣|a-z|A-Z|0-9|\\[|\\]|(|)|-|~|?|!|.|,|:|;|%]+')\n",
    "\n",
    "nowDatetime = datetime.now().strftime('%Y-%m-%d') # 날짜 표기를 위함"
   ]
  },
  {
   "cell_type": "code",
   "execution_count": 3,
   "metadata": {},
   "outputs": [],
   "source": [
    "data_url = open('./data_ya/yanolja_busan[' + nowDatetime +'].csv', 'w', encoding='utf8')\n",
    "data = open('./data_ya/info_yanolja_busan[' + nowDatetime +'].csv', 'w', encoding='utf8')\n",
    "data_r = open('./reviews_ya/reviews_busan[' + nowDatetime +'].csv' , 'w', encoding='utf8')"
   ]
  },
  {
   "cell_type": "code",
   "execution_count": 4,
   "metadata": {},
   "outputs": [],
   "source": [
    "driver = webdriver.Chrome(\"chromedriver.exe\")\n",
    "Url = 'https://www.yanolja.com/motel/r-910047?lat=37.50681&lng=127.06624&advert=AREA&topAdvertiseMore=0&sort=133&placeListType=motel&pathDivision=r-910047'\n",
    "driver.get(Url)"
   ]
  },
  {
   "cell_type": "code",
   "execution_count": 5,
   "metadata": {},
   "outputs": [
    {
     "data": {
      "text/plain": [
       "1"
      ]
     },
     "execution_count": 5,
     "metadata": {},
     "output_type": "execute_result"
    }
   ],
   "source": [
    "data.write('\"name\"')\n",
    "data.write(\", \")\n",
    "data.write('\"basic_info\"')\n",
    "data.write(\", \")\n",
    "data.write('\"cost_info\"')\n",
    "data.write(\", \")\n",
    "data.write('\"avg_stars\"')\n",
    "data.write(\"\\n\")"
   ]
  },
  {
   "cell_type": "code",
   "execution_count": 6,
   "metadata": {},
   "outputs": [
    {
     "ename": "WebDriverException",
     "evalue": "Message: disconnected: Unable to receive message from renderer\n  (failed to check if window was closed: disconnected: not connected to DevTools)\n  (Session info: chrome=113.0.5672.93)\nStacktrace:\nBacktrace:\n\tGetHandleVerifier [0x00968893+48451]\n\t(No symbol) [0x008FB8A1]\n\t(No symbol) [0x00805058]\n\t(No symbol) [0x007F8205]\n\t(No symbol) [0x007F6D46]\n\t(No symbol) [0x007F75CA]\n\t(No symbol) [0x007F7568]\n\t(No symbol) [0x007EC0BA]\n\t(No symbol) [0x007EC917]\n\t(No symbol) [0x008522F8]\n\t(No symbol) [0x0084A283]\n\t(No symbol) [0x00827E08]\n\t(No symbol) [0x00828F2D]\n\tGetHandleVerifier [0x00BC8E3A+2540266]\n\tGetHandleVerifier [0x00C08959+2801161]\n\tGetHandleVerifier [0x00C0295C+2776588]\n\tGetHandleVerifier [0x009F2280+612144]\n\t(No symbol) [0x00904F6C]\n\t(No symbol) [0x009011D8]\n\t(No symbol) [0x009012BB]\n\t(No symbol) [0x008F4857]\n\tBaseThreadInitThunk [0x75B27D59+25]\n\tRtlInitializeExceptionChain [0x7726B74B+107]\n\tRtlClearBits [0x7726B6CF+191]\n",
     "output_type": "error",
     "traceback": [
      "\u001b[1;31m---------------------------------------------------------------------------\u001b[0m",
      "\u001b[1;31mWebDriverException\u001b[0m                        Traceback (most recent call last)",
      "Cell \u001b[1;32mIn[6], line 23\u001b[0m\n\u001b[0;32m     20\u001b[0m         \u001b[39mcontinue\u001b[39;00m\n\u001b[0;32m     22\u001b[0m data\u001b[39m.\u001b[39mclose()\n\u001b[1;32m---> 23\u001b[0m driver\u001b[39m.\u001b[39;49mclose()\n",
      "File \u001b[1;32mc:\\Users\\xmssn\\AppData\\Local\\Programs\\Python\\Python310\\lib\\site-packages\\selenium\\webdriver\\remote\\webdriver.py:551\u001b[0m, in \u001b[0;36mWebDriver.close\u001b[1;34m(self)\u001b[0m\n\u001b[0;32m    543\u001b[0m \u001b[39mdef\u001b[39;00m \u001b[39mclose\u001b[39m(\u001b[39mself\u001b[39m) \u001b[39m-\u001b[39m\u001b[39m>\u001b[39m \u001b[39mNone\u001b[39;00m:\n\u001b[0;32m    544\u001b[0m     \u001b[39m\"\"\"Closes the current window.\u001b[39;00m\n\u001b[0;32m    545\u001b[0m \n\u001b[0;32m    546\u001b[0m \u001b[39m    :Usage:\u001b[39;00m\n\u001b[1;32m   (...)\u001b[0m\n\u001b[0;32m    549\u001b[0m \u001b[39m            driver.close()\u001b[39;00m\n\u001b[0;32m    550\u001b[0m \u001b[39m    \"\"\"\u001b[39;00m\n\u001b[1;32m--> 551\u001b[0m     \u001b[39mself\u001b[39;49m\u001b[39m.\u001b[39;49mexecute(Command\u001b[39m.\u001b[39;49mCLOSE)\n",
      "File \u001b[1;32mc:\\Users\\xmssn\\AppData\\Local\\Programs\\Python\\Python310\\lib\\site-packages\\selenium\\webdriver\\remote\\webdriver.py:440\u001b[0m, in \u001b[0;36mWebDriver.execute\u001b[1;34m(self, driver_command, params)\u001b[0m\n\u001b[0;32m    438\u001b[0m response \u001b[39m=\u001b[39m \u001b[39mself\u001b[39m\u001b[39m.\u001b[39mcommand_executor\u001b[39m.\u001b[39mexecute(driver_command, params)\n\u001b[0;32m    439\u001b[0m \u001b[39mif\u001b[39;00m response:\n\u001b[1;32m--> 440\u001b[0m     \u001b[39mself\u001b[39;49m\u001b[39m.\u001b[39;49merror_handler\u001b[39m.\u001b[39;49mcheck_response(response)\n\u001b[0;32m    441\u001b[0m     response[\u001b[39m\"\u001b[39m\u001b[39mvalue\u001b[39m\u001b[39m\"\u001b[39m] \u001b[39m=\u001b[39m \u001b[39mself\u001b[39m\u001b[39m.\u001b[39m_unwrap_value(response\u001b[39m.\u001b[39mget(\u001b[39m\"\u001b[39m\u001b[39mvalue\u001b[39m\u001b[39m\"\u001b[39m, \u001b[39mNone\u001b[39;00m))\n\u001b[0;32m    442\u001b[0m     \u001b[39mreturn\u001b[39;00m response\n",
      "File \u001b[1;32mc:\\Users\\xmssn\\AppData\\Local\\Programs\\Python\\Python310\\lib\\site-packages\\selenium\\webdriver\\remote\\errorhandler.py:245\u001b[0m, in \u001b[0;36mErrorHandler.check_response\u001b[1;34m(self, response)\u001b[0m\n\u001b[0;32m    243\u001b[0m         alert_text \u001b[39m=\u001b[39m value[\u001b[39m\"\u001b[39m\u001b[39malert\u001b[39m\u001b[39m\"\u001b[39m]\u001b[39m.\u001b[39mget(\u001b[39m\"\u001b[39m\u001b[39mtext\u001b[39m\u001b[39m\"\u001b[39m)\n\u001b[0;32m    244\u001b[0m     \u001b[39mraise\u001b[39;00m exception_class(message, screen, stacktrace, alert_text)  \u001b[39m# type: ignore[call-arg]  # mypy is not smart enough here\u001b[39;00m\n\u001b[1;32m--> 245\u001b[0m \u001b[39mraise\u001b[39;00m exception_class(message, screen, stacktrace)\n",
      "\u001b[1;31mWebDriverException\u001b[0m: Message: disconnected: Unable to receive message from renderer\n  (failed to check if window was closed: disconnected: not connected to DevTools)\n  (Session info: chrome=113.0.5672.93)\nStacktrace:\nBacktrace:\n\tGetHandleVerifier [0x00968893+48451]\n\t(No symbol) [0x008FB8A1]\n\t(No symbol) [0x00805058]\n\t(No symbol) [0x007F8205]\n\t(No symbol) [0x007F6D46]\n\t(No symbol) [0x007F75CA]\n\t(No symbol) [0x007F7568]\n\t(No symbol) [0x007EC0BA]\n\t(No symbol) [0x007EC917]\n\t(No symbol) [0x008522F8]\n\t(No symbol) [0x0084A283]\n\t(No symbol) [0x00827E08]\n\t(No symbol) [0x00828F2D]\n\tGetHandleVerifier [0x00BC8E3A+2540266]\n\tGetHandleVerifier [0x00C08959+2801161]\n\tGetHandleVerifier [0x00C0295C+2776588]\n\tGetHandleVerifier [0x009F2280+612144]\n\t(No symbol) [0x00904F6C]\n\t(No symbol) [0x009011D8]\n\t(No symbol) [0x009012BB]\n\t(No symbol) [0x008F4857]\n\tBaseThreadInitThunk [0x75B27D59+25]\n\tRtlInitializeExceptionChain [0x7726B74B+107]\n\tRtlClearBits [0x7726B6CF+191]\n"
     ]
    }
   ],
   "source": [
    "for i in range(1, 100):\n",
    "    try:\n",
    "        xpath = '/html/body/div[1]/div[2]/section[2]/div/div/div[{}]'.format(i)\n",
    "        element = WebDriverWait(driver, 10).until(EC.element_to_be_clickable((By.XPATH, xpath)))\n",
    "        element.click()\n",
    "        time.sleep(3)\n",
    "\n",
    "        html = driver.page_source\n",
    "        soup = BeautifulSoup(html, 'html.parser')\n",
    "\n",
    "        tarname = soup.select('#__next > div > div > main > article > div:nth-child(1) > div.css-40tgm5')\n",
    "        rname = soup.find(\"div\", {\"class\" : \"css-jyf8pg\"})\n",
    "        name = rname.find(\"div\", {\"class\":\"property-title css-fie5xt\"})\n",
    "        name = name.text\n",
    "\n",
    "        data.write(name)\n",
    "\n",
    "        driver.back()\n",
    "    except:\n",
    "        continue\n",
    "\n",
    "data.close()\n",
    "driver.close()"
   ]
  },
  {
   "cell_type": "code",
   "execution_count": null,
   "metadata": {},
   "outputs": [],
   "source": []
  }
 ],
 "metadata": {
  "kernelspec": {
   "display_name": "Python 3",
   "language": "python",
   "name": "python3"
  },
  "language_info": {
   "codemirror_mode": {
    "name": "ipython",
    "version": 3
   },
   "file_extension": ".py",
   "mimetype": "text/x-python",
   "name": "python",
   "nbconvert_exporter": "python",
   "pygments_lexer": "ipython3",
   "version": "3.10.4"
  },
  "orig_nbformat": 4
 },
 "nbformat": 4,
 "nbformat_minor": 2
}
