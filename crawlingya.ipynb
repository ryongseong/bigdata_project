{
 "cells": [
  {
   "cell_type": "code",
   "execution_count": 1,
   "metadata": {},
   "outputs": [],
   "source": [
    "import os\n",
    "import sys\n",
    "import requests\n",
    "import re\n",
    "import time\n",
    "import json\n",
    "import pandas as pd\n",
    "import csv\n",
    "from datetime import datetime\n",
    "from bs4 import BeautifulSoup\n",
    "from selenium import webdriver\n",
    "from selenium.webdriver.common.by import By\n",
    "from selenium.webdriver.common.keys import Keys\n",
    "from selenium.webdriver.support.ui import WebDriverWait\n",
    "from selenium.webdriver.support import expected_conditions as EC\n",
    "\n",
    "import warnings\n",
    "warnings.filterwarnings('ignore')"
   ]
  },
  {
   "cell_type": "code",
   "execution_count": 2,
   "metadata": {},
   "outputs": [],
   "source": [
    "extracts = re.compile('[^ 가-힣|a-z|A-Z|0-9|\\[|\\]|(|)|-|~|?|!|.|,|:|;|%]+')\n",
    "\n",
    "nowDatetime = datetime.now().strftime('%Y-%m-%d') # 날짜 표기를 위함"
   ]
  },
  {
   "cell_type": "code",
   "execution_count": 3,
   "metadata": {},
   "outputs": [],
   "source": [
    "# 부산\n",
    "# data_url = open('./data_ya/yanolja_busan[' + nowDatetime +'].csv', 'w', encoding='utf8')\n",
    "# data = open('./data_ya/info_yanolja_busan[' + nowDatetime +'].csv', 'w', encoding='utf8')\n",
    "# data_r = open('./reviews_ya/reviews_busan[' + nowDatetime +'].csv' , 'w', encoding='utf8')\n",
    "\n",
    "# 서울\n",
    "data_url = open('./data_ya/yanolja_seoul[' + nowDatetime +'].csv', 'w', encoding='utf8')\n",
    "data = open('./data_ya/info_yanolja_seoul[' + nowDatetime +'].csv', 'w', encoding='utf8')\n",
    "data_r = open('./reviews_ya/reviews_seoul[' + nowDatetime +'].csv' , 'w', encoding='utf8')"
   ]
  },
  {
   "cell_type": "code",
   "execution_count": 4,
   "metadata": {},
   "outputs": [],
   "source": [
    "driver = webdriver.Chrome(\"chromedriver.exe\")\n",
    "# Url = 'https://www.yanolja.com/motel/r-910047?lat=37.50681&lng=127.06624&advert=AREA&topAdvertiseMore=0&sort=133&placeListType=motel&pathDivision=r-910047' # 부산\n",
    "Url = 'https://www.yanolja.com/motel/r-900393/mkey-motel?lat=37.50681&lng=127.06624&advert=AREA&rentType=1&stayType=1&topAdvertiseMore=0&sort=133&placeListType=motel&pathDivision=r-900393&pathDivisionCuts=mkey-motel' # 서울\n",
    "driver.get(Url)"
   ]
  },
  {
   "cell_type": "code",
   "execution_count": 5,
   "metadata": {},
   "outputs": [],
   "source": [
    "for _ in range(10):\n",
    "    driver.find_element(By.CSS_SELECTOR, 'body').send_keys(Keys.PAGE_DOWN)\n",
    "    time.sleep(2)\n",
    "\n",
    "urlList = driver.find_elements(By.CLASS_NAME, \"PlaceListItemText_container__fUIgA.text-unit\")\n",
    "\n",
    "for li in urlList:\n",
    "    aTag = li.find_element(By.TAG_NAME, 'a')\n",
    "    href = aTag.get_attribute('href')\n",
    "    data_url.write(href)\n",
    "    data_url.write('\\n')\n",
    "\n",
    "data_url.close()"
   ]
  },
  {
   "cell_type": "code",
   "execution_count": 6,
   "metadata": {},
   "outputs": [
    {
     "data": {
      "text/plain": [
       "1"
      ]
     },
     "execution_count": 6,
     "metadata": {},
     "output_type": "execute_result"
    }
   ],
   "source": [
    "data.write('\"name\"')\n",
    "data.write(\"|\")\n",
    "data.write('\"basic_info\"')\n",
    "data.write(\"|\")\n",
    "data.write('\"cost_info\"')\n",
    "data.write(\"|\")\n",
    "data.write('\"avg_stars\"')\n",
    "data.write(\"\\n\")"
   ]
  },
  {
   "cell_type": "code",
   "execution_count": null,
   "metadata": {},
   "outputs": [],
   "source": [
    "# 부산\n",
    "# f = open('C:/Users/xmssn/OneDrive/바탕 화면/대학/3학년1학기/빅데이터시스템/project/python_01/data_ya/yanolja_busan['+nowDatetime+'].csv', 'r', encoding='utf8')\n",
    "\n",
    "# 서울\n",
    "f = open('C:/Users/xmssn/OneDrive/바탕 화면/대학/3학년1학기/빅데이터시스템/project/python_01/data_ya/yanolja_seoul['+nowDatetime+'].csv', 'r', encoding='utf8')"
   ]
  },
  {
   "cell_type": "code",
   "execution_count": 195,
   "metadata": {},
   "outputs": [],
   "source": [
    "rdr = csv.reader(f)"
   ]
  },
  {
   "cell_type": "code",
   "execution_count": 196,
   "metadata": {},
   "outputs": [],
   "source": [
    "for line in rdr:\n",
    "    addr = line[0]\n",
    "    driver.get(addr)\n",
    "    html = driver.page_source\n",
    "    soup = BeautifulSoup(html, 'html.parser')\n",
    "\n",
    "    try:\n",
    "        tarname = soup.select('#__next > div.css-wk08mo > div.css-fwupcd > main.css-hqn261 > div.css-gs34ha')\n",
    "        rname = soup.find(\"div\", {\"class\" : \"css-nmmkf9\"})\n",
    "        name = rname.find(\"div\", {\"class\" : \"css-wgg48k\"})\n",
    "        name = name.get_text()\n",
    "\n",
    "        cost_info = soup.find('span',attrs={'css-w3imtf'}).text\n",
    "        \n",
    "        avg_star = soup.find('span', attrs={'css-1m0vwjv'}).text\n",
    "        \n",
    "        driver.find_element(By.XPATH,'/html/body/div[1]/div/div/main/article/div[2]/div/div[1]/div/button[3]').click()\n",
    "        soup = BeautifulSoup(driver.page_source, 'html.parser')\n",
    "        tarbasic_info = soup.select('#__next > div > div > main > article > div:nth-child(2) > div > div.css-17c0wg8 > div > div:nth-child(1) > div > div.css-1830rfa > div')\n",
    "        basic_info = ''\n",
    "        for text in tarbasic_info:\n",
    "            basic_info += text.getText()\n",
    "\n",
    "        basic_info = extracts.sub('', basic_info)\n",
    "        basic_info = re.sub(' +', ' ', basic_info)\n",
    "        basic_info = '\"'+basic_info+'\"'\n",
    "\n",
    "        data.write(name)\n",
    "        data.write('|')\n",
    "        data.write(basic_info)\n",
    "        data.write('|')\n",
    "        data.write(cost_info)\n",
    "        data.write('|')\n",
    "        data.write(avg_star)\n",
    "        data.write('\\n')\n",
    "    \n",
    "    except:\n",
    "        continue\n",
    "\n",
    "f.close()\n",
    "data.close()\n",
    "driver.close()"
   ]
  },
  {
   "cell_type": "code",
   "execution_count": 197,
   "metadata": {},
   "outputs": [
    {
     "data": {
      "text/plain": [
       "1"
      ]
     },
     "execution_count": 197,
     "metadata": {},
     "output_type": "execute_result"
    }
   ],
   "source": [
    "data_r.write('\"review\"')\n",
    "data_r.write('\\n')"
   ]
  },
  {
   "cell_type": "code",
   "execution_count": 198,
   "metadata": {},
   "outputs": [],
   "source": [
    "# 부산\n",
    "# d = open('C:/Users/xmssn/OneDrive/바탕 화면/대학/3학년1학기/빅데이터시스템/project/python_01/data_ya/yanolja_busan['+nowDatetime+'].csv', 'r', encoding='utf8')\n",
    "\n",
    "d = open('C:/Users/xmssn/OneDrive/바탕 화면/대학/3학년1학기/빅데이터시스템/project/python_01/data_ya/yanolja_seoul['+nowDatetime+'].csv', 'r', encoding='utf8')"
   ]
  },
  {
   "cell_type": "code",
   "execution_count": 199,
   "metadata": {},
   "outputs": [],
   "source": [
    "rdd = csv.reader(d)"
   ]
  },
  {
   "cell_type": "code",
   "execution_count": 200,
   "metadata": {},
   "outputs": [],
   "source": [
    "driver = webdriver.Chrome(\"chromedriver.exe\")\n",
    "\n",
    "for line in rdd:\n",
    "    addx = line[0]\n",
    "    driver.get(addx)\n",
    "    \n",
    "    driver.find_element(By.XPATH, '/html/body/div[1]/div/div/main/article/div[2]/div/div[1]/div/button[5]').click()\n",
    "\n",
    "    # data_r = open('C:/Users/xmssn/OneDrive/바탕 화면/대학/3학년1학기/빅데이터시스템/project/python_01/reviews_ya/reviews_busan[' + nowDatetime +'].csv', 'a', encoding='utf8')\n",
    "    data_r = open('C:/Users/xmssn/OneDrive/바탕 화면/대학/3학년1학기/빅데이터시스템/project/python_01/reviews_ya/reviews_seoul[' + nowDatetime +'].csv', 'a', encoding='utf8')\n",
    "\n",
    "    for _ in range(10):\n",
    "        driver.find_element(By.CSS_SELECTOR, 'body').send_keys(Keys.PAGE_DOWN)\n",
    "        time.sleep(2)\n",
    "\n",
    "    soups = BeautifulSoup(driver.page_source, 'html.parser')\n",
    "\n",
    "    reviews = soups.find_all('div', attrs={\"class\" : \"css-1byy3oj\"})\n",
    "    \n",
    "    for review in reviews:\n",
    "        review_text = review.text\n",
    "        data_r.write(review_text)\n",
    "        data_r.write('\\n')\n",
    "    \n",
    "    data_r.write('--------------------')\n",
    "    data_r.write('\\n')\n",
    "    data_r.close()\n",
    "\n",
    "d.close()\n",
    "driver.close()"
   ]
  }
 ],
 "metadata": {
  "kernelspec": {
   "display_name": "Python 3",
   "language": "python",
   "name": "python3"
  },
  "language_info": {
   "codemirror_mode": {
    "name": "ipython",
    "version": 3
   },
   "file_extension": ".py",
   "mimetype": "text/x-python",
   "name": "python",
   "nbconvert_exporter": "python",
   "pygments_lexer": "ipython3",
   "version": "3.10.4"
  },
  "orig_nbformat": 4
 },
 "nbformat": 4,
 "nbformat_minor": 2
}
